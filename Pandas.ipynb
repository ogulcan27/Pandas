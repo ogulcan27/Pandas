{
 "cells": [
  {
   "cell_type": "markdown",
   "id": "119a21f6",
   "metadata": {},
   "source": [
    "# Pandas Nedir?"
   ]
  },
  {
   "cell_type": "markdown",
   "id": "d35930ec",
   "metadata": {},
   "source": [
    "--> Pandas, veri kümeleriyle çalışmak için kullanılan bir Python kütüphanesidir. Verileri analiz etme, temizleme, keşfetme ve işleme işlevlerine sahiptir.\n",
    "\n",
    "--> Pandas, büyük verileri analiz etmemize ve istatistiksel teorilere dayalı sonuçlar çıkarmamıza olanak tanır.\n",
    "\n",
    "--> Pandas, dağınık veri kümelerini temizleyebilir ve bunları okunabilir ve alakalı hale getirebilir"
   ]
  },
  {
   "cell_type": "markdown",
   "id": "36c3ac72",
   "metadata": {},
   "source": [
    "## Pandas Kütüphanesini Çağırma  "
   ]
  },
  {
   "cell_type": "code",
   "execution_count": 1,
   "id": "746cd76f",
   "metadata": {},
   "outputs": [],
   "source": [
    "import pandas as pd"
   ]
  },
  {
   "cell_type": "markdown",
   "id": "5c9419a2",
   "metadata": {},
   "source": [
    "## Series (Seriler) "
   ]
  },
  {
   "cell_type": "markdown",
   "id": "70113f85",
   "metadata": {},
   "source": [
    "#### Seri oluşturma --> pd.Series()"
   ]
  },
  {
   "cell_type": "code",
   "execution_count": 2,
   "id": "d2d54354",
   "metadata": {},
   "outputs": [],
   "source": [
    "a = [1,7,2]\n",
    "my_series = pd.Series(a)"
   ]
  },
  {
   "cell_type": "markdown",
   "id": "af8cd921",
   "metadata": {},
   "source": [
    "--> Sol tarafta listedeki elemanların index değerleri, sağ taraftada da listedeki elemanlar bulunur. "
   ]
  },
  {
   "cell_type": "code",
   "execution_count": 3,
   "id": "9625cc41",
   "metadata": {},
   "outputs": [
    {
     "data": {
      "text/plain": [
       "0    1\n",
       "1    7\n",
       "2    2\n",
       "dtype: int64"
      ]
     },
     "execution_count": 3,
     "metadata": {},
     "output_type": "execute_result"
    }
   ],
   "source": [
    "my_series"
   ]
  },
  {
   "cell_type": "markdown",
   "id": "0c5650f2",
   "metadata": {},
   "source": [
    "#### Seride, index değerlerini etiketlendirme  "
   ]
  },
  {
   "cell_type": "markdown",
   "id": "30098766",
   "metadata": {},
   "source": [
    "--> index argümanı ile etiketlendirme yapabiliriz"
   ]
  },
  {
   "cell_type": "code",
   "execution_count": 4,
   "id": "14377222",
   "metadata": {},
   "outputs": [
    {
     "data": {
      "text/plain": [
       "x    1\n",
       "y    7\n",
       "z    2\n",
       "dtype: int64"
      ]
     },
     "execution_count": 4,
     "metadata": {},
     "output_type": "execute_result"
    }
   ],
   "source": [
    "my_series1 = pd.Series(a, index = [\"x\" ,\"y\", \"z\"])\n",
    "my_series1"
   ]
  },
  {
   "cell_type": "markdown",
   "id": "430375a3",
   "metadata": {},
   "source": [
    "--> Etiketlendirme yaptıktan sonra, o isimlerle ögelere erişebiliriz"
   ]
  },
  {
   "cell_type": "code",
   "execution_count": 5,
   "id": "f0e47a28",
   "metadata": {},
   "outputs": [
    {
     "data": {
      "text/plain": [
       "1"
      ]
     },
     "execution_count": 5,
     "metadata": {},
     "output_type": "execute_result"
    }
   ],
   "source": [
    "my_series1[\"x\"]"
   ]
  },
  {
   "cell_type": "code",
   "execution_count": 6,
   "id": "e34eef37",
   "metadata": {},
   "outputs": [
    {
     "data": {
      "text/plain": [
       "2"
      ]
     },
     "execution_count": 6,
     "metadata": {},
     "output_type": "execute_result"
    }
   ],
   "source": [
    "my_series1[\"z\"]"
   ]
  },
  {
   "cell_type": "markdown",
   "id": "59384228",
   "metadata": {},
   "source": [
    "#### Dictionaries (Sözlük) ile seri oluşturma "
   ]
  },
  {
   "cell_type": "code",
   "execution_count": 7,
   "id": "0e1f30df",
   "metadata": {},
   "outputs": [
    {
     "data": {
      "text/plain": [
       "day1    1900\n",
       "day2    2050\n",
       "day3    2700\n",
       "dtype: int64"
      ]
     },
     "execution_count": 7,
     "metadata": {},
     "output_type": "execute_result"
    }
   ],
   "source": [
    "calories = {\"day1\" : 1900, \"day2\" : 2050, \"day3\" : 2700 }\n",
    "my_series2 = pd.Series(calories)\n",
    "my_series2"
   ]
  },
  {
   "cell_type": "markdown",
   "id": "03968d63",
   "metadata": {},
   "source": [
    "--> Sözlükteki öğelerin yalnızca bazılarını seçip bir seri oluşturmak için index argümanına seriye eklemek istediğimiz etiketleri gireriz"
   ]
  },
  {
   "cell_type": "code",
   "execution_count": 8,
   "id": "649dd2b0",
   "metadata": {},
   "outputs": [
    {
     "data": {
      "text/plain": [
       "day1    1900\n",
       "day2    2050\n",
       "dtype: int64"
      ]
     },
     "execution_count": 8,
     "metadata": {},
     "output_type": "execute_result"
    }
   ],
   "source": [
    "my_series3 = pd.Series(calories, index = [\"day1\", \"day2\"])\n",
    "my_series3"
   ]
  },
  {
   "cell_type": "markdown",
   "id": "a72233ba",
   "metadata": {},
   "source": [
    "## Data Frames (Veri Çerçeveleri) "
   ]
  },
  {
   "cell_type": "markdown",
   "id": "4f1f6d7b",
   "metadata": {},
   "source": [
    "--> Pandas'taki veri kümeleri genellikle DataFrame adı verilen çok boyutlu tablolardır.\n",
    "--> Seriler, bir sütun gibidir. DataFrame ise tüm tablodur."
   ]
  },
  {
   "cell_type": "code",
   "execution_count": 9,
   "id": "7fb06004",
   "metadata": {},
   "outputs": [
    {
     "data": {
      "text/html": [
       "<div>\n",
       "<style scoped>\n",
       "    .dataframe tbody tr th:only-of-type {\n",
       "        vertical-align: middle;\n",
       "    }\n",
       "\n",
       "    .dataframe tbody tr th {\n",
       "        vertical-align: top;\n",
       "    }\n",
       "\n",
       "    .dataframe thead th {\n",
       "        text-align: right;\n",
       "    }\n",
       "</style>\n",
       "<table border=\"1\" class=\"dataframe\">\n",
       "  <thead>\n",
       "    <tr style=\"text-align: right;\">\n",
       "      <th></th>\n",
       "      <th>calories</th>\n",
       "      <th>duration</th>\n",
       "    </tr>\n",
       "  </thead>\n",
       "  <tbody>\n",
       "    <tr>\n",
       "      <th>0</th>\n",
       "      <td>420</td>\n",
       "      <td>50</td>\n",
       "    </tr>\n",
       "    <tr>\n",
       "      <th>1</th>\n",
       "      <td>380</td>\n",
       "      <td>40</td>\n",
       "    </tr>\n",
       "    <tr>\n",
       "      <th>2</th>\n",
       "      <td>390</td>\n",
       "      <td>45</td>\n",
       "    </tr>\n",
       "  </tbody>\n",
       "</table>\n",
       "</div>"
      ],
      "text/plain": [
       "   calories  duration\n",
       "0       420        50\n",
       "1       380        40\n",
       "2       390        45"
      ]
     },
     "execution_count": 9,
     "metadata": {},
     "output_type": "execute_result"
    }
   ],
   "source": [
    "data = {\n",
    "    \"calories\" : [420, 380, 390],\n",
    "    \"duration\" : [50, 40, 45]\n",
    "}\n",
    "\n",
    "my_series4 = pd.DataFrame(data)\n",
    "my_series4"
   ]
  },
  {
   "cell_type": "markdown",
   "id": "29975f3e",
   "metadata": {},
   "source": [
    "#### DataFrame'deki bir veya birden fazla satırı döndürmek --> .loc[ ]"
   ]
  },
  {
   "cell_type": "markdown",
   "id": "5eaa6ab3",
   "metadata": {},
   "source": [
    "--> my_series4 adlı Data Frame'de, 0. indexteki satırı döndürelim "
   ]
  },
  {
   "cell_type": "code",
   "execution_count": 10,
   "id": "04a5a350",
   "metadata": {},
   "outputs": [
    {
     "data": {
      "text/plain": [
       "calories    420\n",
       "duration     50\n",
       "Name: 0, dtype: int64"
      ]
     },
     "execution_count": 10,
     "metadata": {},
     "output_type": "execute_result"
    }
   ],
   "source": [
    "my_series4.loc[0] # Elde edeceğimiz sonuç, bir seri olacaktır."
   ]
  },
  {
   "cell_type": "markdown",
   "id": "0e11b4a1",
   "metadata": {},
   "source": [
    "--> Bu sefer de 0. ve 1. indexteki satırı döndürelim"
   ]
  },
  {
   "cell_type": "code",
   "execution_count": 11,
   "id": "fb40c506",
   "metadata": {},
   "outputs": [
    {
     "data": {
      "text/html": [
       "<div>\n",
       "<style scoped>\n",
       "    .dataframe tbody tr th:only-of-type {\n",
       "        vertical-align: middle;\n",
       "    }\n",
       "\n",
       "    .dataframe tbody tr th {\n",
       "        vertical-align: top;\n",
       "    }\n",
       "\n",
       "    .dataframe thead th {\n",
       "        text-align: right;\n",
       "    }\n",
       "</style>\n",
       "<table border=\"1\" class=\"dataframe\">\n",
       "  <thead>\n",
       "    <tr style=\"text-align: right;\">\n",
       "      <th></th>\n",
       "      <th>calories</th>\n",
       "      <th>duration</th>\n",
       "    </tr>\n",
       "  </thead>\n",
       "  <tbody>\n",
       "    <tr>\n",
       "      <th>0</th>\n",
       "      <td>420</td>\n",
       "      <td>50</td>\n",
       "    </tr>\n",
       "    <tr>\n",
       "      <th>1</th>\n",
       "      <td>380</td>\n",
       "      <td>40</td>\n",
       "    </tr>\n",
       "  </tbody>\n",
       "</table>\n",
       "</div>"
      ],
      "text/plain": [
       "   calories  duration\n",
       "0       420        50\n",
       "1       380        40"
      ]
     },
     "execution_count": 11,
     "metadata": {},
     "output_type": "execute_result"
    }
   ],
   "source": [
    "my_series4.loc[[0,1]] # İç içe [[..]] kullandığımızda elde edeceğimiz sonuç, bir data frame olacaktır."
   ]
  },
  {
   "cell_type": "markdown",
   "id": "40485cda",
   "metadata": {},
   "source": [
    "#### DataFrame'de index değerlerini etiketlendirme "
   ]
  },
  {
   "cell_type": "markdown",
   "id": "d6e135ed",
   "metadata": {},
   "source": [
    "--> index argümanı ile etiketlendirme yapabiliriz. "
   ]
  },
  {
   "cell_type": "code",
   "execution_count": 12,
   "id": "9887ed25",
   "metadata": {},
   "outputs": [
    {
     "data": {
      "text/html": [
       "<div>\n",
       "<style scoped>\n",
       "    .dataframe tbody tr th:only-of-type {\n",
       "        vertical-align: middle;\n",
       "    }\n",
       "\n",
       "    .dataframe tbody tr th {\n",
       "        vertical-align: top;\n",
       "    }\n",
       "\n",
       "    .dataframe thead th {\n",
       "        text-align: right;\n",
       "    }\n",
       "</style>\n",
       "<table border=\"1\" class=\"dataframe\">\n",
       "  <thead>\n",
       "    <tr style=\"text-align: right;\">\n",
       "      <th></th>\n",
       "      <th>calories</th>\n",
       "      <th>duration</th>\n",
       "    </tr>\n",
       "  </thead>\n",
       "  <tbody>\n",
       "    <tr>\n",
       "      <th>day1</th>\n",
       "      <td>420</td>\n",
       "      <td>50</td>\n",
       "    </tr>\n",
       "    <tr>\n",
       "      <th>day2</th>\n",
       "      <td>380</td>\n",
       "      <td>40</td>\n",
       "    </tr>\n",
       "    <tr>\n",
       "      <th>day3</th>\n",
       "      <td>390</td>\n",
       "      <td>45</td>\n",
       "    </tr>\n",
       "  </tbody>\n",
       "</table>\n",
       "</div>"
      ],
      "text/plain": [
       "      calories  duration\n",
       "day1       420        50\n",
       "day2       380        40\n",
       "day3       390        45"
      ]
     },
     "execution_count": 12,
     "metadata": {},
     "output_type": "execute_result"
    }
   ],
   "source": [
    "my_series5 = pd.DataFrame(data, index = [\"day1\", \"day2\", \"day3\"])\n",
    "my_series5"
   ]
  },
  {
   "cell_type": "markdown",
   "id": "bf8c5693",
   "metadata": {},
   "source": [
    "--> Etiketlendirdiğimiz indexleri .loc[] ile çağırabiliriz"
   ]
  },
  {
   "cell_type": "code",
   "execution_count": 13,
   "id": "c9a3937c",
   "metadata": {},
   "outputs": [
    {
     "data": {
      "text/plain": [
       "calories    380\n",
       "duration     40\n",
       "Name: day2, dtype: int64"
      ]
     },
     "execution_count": 13,
     "metadata": {},
     "output_type": "execute_result"
    }
   ],
   "source": [
    "my_series5.loc[\"day2\"]"
   ]
  },
  {
   "cell_type": "code",
   "execution_count": 14,
   "id": "8dd0dd69",
   "metadata": {},
   "outputs": [
    {
     "data": {
      "text/html": [
       "<div>\n",
       "<style scoped>\n",
       "    .dataframe tbody tr th:only-of-type {\n",
       "        vertical-align: middle;\n",
       "    }\n",
       "\n",
       "    .dataframe tbody tr th {\n",
       "        vertical-align: top;\n",
       "    }\n",
       "\n",
       "    .dataframe thead th {\n",
       "        text-align: right;\n",
       "    }\n",
       "</style>\n",
       "<table border=\"1\" class=\"dataframe\">\n",
       "  <thead>\n",
       "    <tr style=\"text-align: right;\">\n",
       "      <th></th>\n",
       "      <th>calories</th>\n",
       "      <th>duration</th>\n",
       "    </tr>\n",
       "  </thead>\n",
       "  <tbody>\n",
       "    <tr>\n",
       "      <th>day1</th>\n",
       "      <td>420</td>\n",
       "      <td>50</td>\n",
       "    </tr>\n",
       "    <tr>\n",
       "      <th>day3</th>\n",
       "      <td>390</td>\n",
       "      <td>45</td>\n",
       "    </tr>\n",
       "  </tbody>\n",
       "</table>\n",
       "</div>"
      ],
      "text/plain": [
       "      calories  duration\n",
       "day1       420        50\n",
       "day3       390        45"
      ]
     },
     "execution_count": 14,
     "metadata": {},
     "output_type": "execute_result"
    }
   ],
   "source": [
    "my_series5.loc[[\"day1\", \"day3\"]]"
   ]
  },
  {
   "cell_type": "markdown",
   "id": "cbe2be89",
   "metadata": {},
   "source": [
    "#### Dictionaries (Sözlük) ile DataFrame oluşturma"
   ]
  },
  {
   "cell_type": "code",
   "execution_count": 15,
   "id": "ae5a1598",
   "metadata": {},
   "outputs": [
    {
     "data": {
      "text/html": [
       "<div>\n",
       "<style scoped>\n",
       "    .dataframe tbody tr th:only-of-type {\n",
       "        vertical-align: middle;\n",
       "    }\n",
       "\n",
       "    .dataframe tbody tr th {\n",
       "        vertical-align: top;\n",
       "    }\n",
       "\n",
       "    .dataframe thead th {\n",
       "        text-align: right;\n",
       "    }\n",
       "</style>\n",
       "<table border=\"1\" class=\"dataframe\">\n",
       "  <thead>\n",
       "    <tr style=\"text-align: right;\">\n",
       "      <th></th>\n",
       "      <th>country</th>\n",
       "      <th>capital</th>\n",
       "      <th>area</th>\n",
       "      <th>population</th>\n",
       "    </tr>\n",
       "  </thead>\n",
       "  <tbody>\n",
       "    <tr>\n",
       "      <th>BR</th>\n",
       "      <td>Brazil</td>\n",
       "      <td>Brasilia</td>\n",
       "      <td>8.516</td>\n",
       "      <td>200.4</td>\n",
       "    </tr>\n",
       "    <tr>\n",
       "      <th>RU</th>\n",
       "      <td>Russia</td>\n",
       "      <td>Moscow</td>\n",
       "      <td>17.100</td>\n",
       "      <td>143.5</td>\n",
       "    </tr>\n",
       "    <tr>\n",
       "      <th>IN</th>\n",
       "      <td>India</td>\n",
       "      <td>New Delhi</td>\n",
       "      <td>3.286</td>\n",
       "      <td>1252.0</td>\n",
       "    </tr>\n",
       "    <tr>\n",
       "      <th>CH</th>\n",
       "      <td>China</td>\n",
       "      <td>Beijing</td>\n",
       "      <td>9.597</td>\n",
       "      <td>1357.0</td>\n",
       "    </tr>\n",
       "  </tbody>\n",
       "</table>\n",
       "</div>"
      ],
      "text/plain": [
       "   country    capital    area  population\n",
       "BR  Brazil   Brasilia   8.516       200.4\n",
       "RU  Russia     Moscow  17.100       143.5\n",
       "IN   India  New Delhi   3.286      1252.0\n",
       "CH   China    Beijing   9.597      1357.0"
      ]
     },
     "execution_count": 15,
     "metadata": {},
     "output_type": "execute_result"
    }
   ],
   "source": [
    "dict = {\n",
    "    \"country\" : [\"Brazil\", \"Russia\", \"India\", \"China\"],\n",
    "    \"capital\" : [\"Brasilia\", \"Moscow\", \"New Delhi\", \"Beijing\"],\n",
    "    \"area\" : [8.516, 17.10, 3.286, 9.597],\n",
    "    \"population\" : [200.4, 143.5, 1252, 1357]\n",
    "}\n",
    "\n",
    "brics = pd.DataFrame(dict, index = [\"BR\", \"RU\", \"IN\", \"CH\"])\n",
    "brics"
   ]
  },
  {
   "cell_type": "markdown",
   "id": "a08bf868",
   "metadata": {},
   "source": [
    "--> Eğer iç içe köşeli parantez kullanırsak elde edeceğimiz sonuç, bir data frame olur.\n",
    "--> Eğer sadece tek köşeli parantez kullanırsak elde edeceğimiz sonuç, bir seri olur."
   ]
  },
  {
   "cell_type": "code",
   "execution_count": 16,
   "id": "a7be0711",
   "metadata": {},
   "outputs": [
    {
     "data": {
      "text/html": [
       "<div>\n",
       "<style scoped>\n",
       "    .dataframe tbody tr th:only-of-type {\n",
       "        vertical-align: middle;\n",
       "    }\n",
       "\n",
       "    .dataframe tbody tr th {\n",
       "        vertical-align: top;\n",
       "    }\n",
       "\n",
       "    .dataframe thead th {\n",
       "        text-align: right;\n",
       "    }\n",
       "</style>\n",
       "<table border=\"1\" class=\"dataframe\">\n",
       "  <thead>\n",
       "    <tr style=\"text-align: right;\">\n",
       "      <th></th>\n",
       "      <th>country</th>\n",
       "      <th>capital</th>\n",
       "    </tr>\n",
       "  </thead>\n",
       "  <tbody>\n",
       "    <tr>\n",
       "      <th>BR</th>\n",
       "      <td>Brazil</td>\n",
       "      <td>Brasilia</td>\n",
       "    </tr>\n",
       "    <tr>\n",
       "      <th>RU</th>\n",
       "      <td>Russia</td>\n",
       "      <td>Moscow</td>\n",
       "    </tr>\n",
       "    <tr>\n",
       "      <th>IN</th>\n",
       "      <td>India</td>\n",
       "      <td>New Delhi</td>\n",
       "    </tr>\n",
       "    <tr>\n",
       "      <th>CH</th>\n",
       "      <td>China</td>\n",
       "      <td>Beijing</td>\n",
       "    </tr>\n",
       "  </tbody>\n",
       "</table>\n",
       "</div>"
      ],
      "text/plain": [
       "   country    capital\n",
       "BR  Brazil   Brasilia\n",
       "RU  Russia     Moscow\n",
       "IN   India  New Delhi\n",
       "CH   China    Beijing"
      ]
     },
     "execution_count": 16,
     "metadata": {},
     "output_type": "execute_result"
    }
   ],
   "source": [
    "brics[[\"country\", \"capital\"]]"
   ]
  },
  {
   "cell_type": "code",
   "execution_count": 17,
   "id": "bc2cec2d",
   "metadata": {},
   "outputs": [
    {
     "data": {
      "text/plain": [
       "BR    Brazil\n",
       "RU    Russia\n",
       "IN     India\n",
       "CH     China\n",
       "Name: country, dtype: object"
      ]
     },
     "execution_count": 17,
     "metadata": {},
     "output_type": "execute_result"
    }
   ],
   "source": [
    "brics[\"country\"]"
   ]
  },
  {
   "cell_type": "markdown",
   "id": "a45ff299",
   "metadata": {},
   "source": [
    "--> Data frame'den bir satır seçelim."
   ]
  },
  {
   "cell_type": "code",
   "execution_count": 18,
   "id": "98541d2f",
   "metadata": {},
   "outputs": [
    {
     "data": {
      "text/html": [
       "<div>\n",
       "<style scoped>\n",
       "    .dataframe tbody tr th:only-of-type {\n",
       "        vertical-align: middle;\n",
       "    }\n",
       "\n",
       "    .dataframe tbody tr th {\n",
       "        vertical-align: top;\n",
       "    }\n",
       "\n",
       "    .dataframe thead th {\n",
       "        text-align: right;\n",
       "    }\n",
       "</style>\n",
       "<table border=\"1\" class=\"dataframe\">\n",
       "  <thead>\n",
       "    <tr style=\"text-align: right;\">\n",
       "      <th></th>\n",
       "      <th>country</th>\n",
       "      <th>capital</th>\n",
       "      <th>area</th>\n",
       "      <th>population</th>\n",
       "    </tr>\n",
       "  </thead>\n",
       "  <tbody>\n",
       "    <tr>\n",
       "      <th>RU</th>\n",
       "      <td>Russia</td>\n",
       "      <td>Moscow</td>\n",
       "      <td>17.100</td>\n",
       "      <td>143.5</td>\n",
       "    </tr>\n",
       "    <tr>\n",
       "      <th>IN</th>\n",
       "      <td>India</td>\n",
       "      <td>New Delhi</td>\n",
       "      <td>3.286</td>\n",
       "      <td>1252.0</td>\n",
       "    </tr>\n",
       "    <tr>\n",
       "      <th>CH</th>\n",
       "      <td>China</td>\n",
       "      <td>Beijing</td>\n",
       "      <td>9.597</td>\n",
       "      <td>1357.0</td>\n",
       "    </tr>\n",
       "  </tbody>\n",
       "</table>\n",
       "</div>"
      ],
      "text/plain": [
       "   country    capital    area  population\n",
       "RU  Russia     Moscow  17.100       143.5\n",
       "IN   India  New Delhi   3.286      1252.0\n",
       "CH   China    Beijing   9.597      1357.0"
      ]
     },
     "execution_count": 18,
     "metadata": {},
     "output_type": "execute_result"
    }
   ],
   "source": [
    "brics[1:4]"
   ]
  },
  {
   "cell_type": "markdown",
   "id": "29c70324",
   "metadata": {},
   "source": [
    "--> _ _.loc[]'u brics data frame'ine uygulayalım \n",
    "--> Aynı şekilde eğer tek köşeli parantez kullanırsak elde edilen sonuç bir seri olacaktır. Eğer çift köşeli parantez kullanırsak elde edilen sonuç bir data frame olacaktır."
   ]
  },
  {
   "cell_type": "code",
   "execution_count": 19,
   "id": "00568ab8",
   "metadata": {},
   "outputs": [
    {
     "data": {
      "text/plain": [
       "country       Russia\n",
       "capital       Moscow\n",
       "area            17.1\n",
       "population     143.5\n",
       "Name: RU, dtype: object"
      ]
     },
     "execution_count": 19,
     "metadata": {},
     "output_type": "execute_result"
    }
   ],
   "source": [
    "brics.loc[\"RU\"] # Sonuç, seri"
   ]
  },
  {
   "cell_type": "code",
   "execution_count": 20,
   "id": "ea79234e",
   "metadata": {},
   "outputs": [
    {
     "data": {
      "text/html": [
       "<div>\n",
       "<style scoped>\n",
       "    .dataframe tbody tr th:only-of-type {\n",
       "        vertical-align: middle;\n",
       "    }\n",
       "\n",
       "    .dataframe tbody tr th {\n",
       "        vertical-align: top;\n",
       "    }\n",
       "\n",
       "    .dataframe thead th {\n",
       "        text-align: right;\n",
       "    }\n",
       "</style>\n",
       "<table border=\"1\" class=\"dataframe\">\n",
       "  <thead>\n",
       "    <tr style=\"text-align: right;\">\n",
       "      <th></th>\n",
       "      <th>country</th>\n",
       "      <th>capital</th>\n",
       "      <th>area</th>\n",
       "      <th>population</th>\n",
       "    </tr>\n",
       "  </thead>\n",
       "  <tbody>\n",
       "    <tr>\n",
       "      <th>RU</th>\n",
       "      <td>Russia</td>\n",
       "      <td>Moscow</td>\n",
       "      <td>17.1</td>\n",
       "      <td>143.5</td>\n",
       "    </tr>\n",
       "  </tbody>\n",
       "</table>\n",
       "</div>"
      ],
      "text/plain": [
       "   country capital  area  population\n",
       "RU  Russia  Moscow  17.1       143.5"
      ]
     },
     "execution_count": 20,
     "metadata": {},
     "output_type": "execute_result"
    }
   ],
   "source": [
    "brics.loc[[\"RU\"]] # Sonuç, data frame"
   ]
  },
  {
   "cell_type": "code",
   "execution_count": 21,
   "id": "0d95b770",
   "metadata": {},
   "outputs": [
    {
     "data": {
      "text/html": [
       "<div>\n",
       "<style scoped>\n",
       "    .dataframe tbody tr th:only-of-type {\n",
       "        vertical-align: middle;\n",
       "    }\n",
       "\n",
       "    .dataframe tbody tr th {\n",
       "        vertical-align: top;\n",
       "    }\n",
       "\n",
       "    .dataframe thead th {\n",
       "        text-align: right;\n",
       "    }\n",
       "</style>\n",
       "<table border=\"1\" class=\"dataframe\">\n",
       "  <thead>\n",
       "    <tr style=\"text-align: right;\">\n",
       "      <th></th>\n",
       "      <th>country</th>\n",
       "      <th>capital</th>\n",
       "      <th>area</th>\n",
       "      <th>population</th>\n",
       "    </tr>\n",
       "  </thead>\n",
       "  <tbody>\n",
       "    <tr>\n",
       "      <th>RU</th>\n",
       "      <td>Russia</td>\n",
       "      <td>Moscow</td>\n",
       "      <td>17.100</td>\n",
       "      <td>143.5</td>\n",
       "    </tr>\n",
       "    <tr>\n",
       "      <th>CH</th>\n",
       "      <td>China</td>\n",
       "      <td>Beijing</td>\n",
       "      <td>9.597</td>\n",
       "      <td>1357.0</td>\n",
       "    </tr>\n",
       "    <tr>\n",
       "      <th>IN</th>\n",
       "      <td>India</td>\n",
       "      <td>New Delhi</td>\n",
       "      <td>3.286</td>\n",
       "      <td>1252.0</td>\n",
       "    </tr>\n",
       "  </tbody>\n",
       "</table>\n",
       "</div>"
      ],
      "text/plain": [
       "   country    capital    area  population\n",
       "RU  Russia     Moscow  17.100       143.5\n",
       "CH   China    Beijing   9.597      1357.0\n",
       "IN   India  New Delhi   3.286      1252.0"
      ]
     },
     "execution_count": 21,
     "metadata": {},
     "output_type": "execute_result"
    }
   ],
   "source": [
    "brics.loc[[\"RU\", \"CH\", \"IN\"]]"
   ]
  },
  {
   "cell_type": "markdown",
   "id": "e2513b81",
   "metadata": {},
   "source": [
    "--> _ _.loc[] ile sadece istediğimiz satır ve sütundaki verileri data frame olarak döndürelim."
   ]
  },
  {
   "cell_type": "code",
   "execution_count": 22,
   "id": "ebf7000c",
   "metadata": {},
   "outputs": [
    {
     "data": {
      "text/html": [
       "<div>\n",
       "<style scoped>\n",
       "    .dataframe tbody tr th:only-of-type {\n",
       "        vertical-align: middle;\n",
       "    }\n",
       "\n",
       "    .dataframe tbody tr th {\n",
       "        vertical-align: top;\n",
       "    }\n",
       "\n",
       "    .dataframe thead th {\n",
       "        text-align: right;\n",
       "    }\n",
       "</style>\n",
       "<table border=\"1\" class=\"dataframe\">\n",
       "  <thead>\n",
       "    <tr style=\"text-align: right;\">\n",
       "      <th></th>\n",
       "      <th>country</th>\n",
       "      <th>capital</th>\n",
       "    </tr>\n",
       "  </thead>\n",
       "  <tbody>\n",
       "    <tr>\n",
       "      <th>RU</th>\n",
       "      <td>Russia</td>\n",
       "      <td>Moscow</td>\n",
       "    </tr>\n",
       "    <tr>\n",
       "      <th>CH</th>\n",
       "      <td>China</td>\n",
       "      <td>Beijing</td>\n",
       "    </tr>\n",
       "    <tr>\n",
       "      <th>IN</th>\n",
       "      <td>India</td>\n",
       "      <td>New Delhi</td>\n",
       "    </tr>\n",
       "  </tbody>\n",
       "</table>\n",
       "</div>"
      ],
      "text/plain": [
       "   country    capital\n",
       "RU  Russia     Moscow\n",
       "CH   China    Beijing\n",
       "IN   India  New Delhi"
      ]
     },
     "execution_count": 22,
     "metadata": {},
     "output_type": "execute_result"
    }
   ],
   "source": [
    "brics.loc[[\"RU\", \"CH\", \"IN\"], [\"country\", \"capital\"]]"
   ]
  },
  {
   "cell_type": "markdown",
   "id": "fe1211ff",
   "metadata": {},
   "source": [
    "--> _ _.loc[] ile bütün satırları getirirken sadece country ve capital sütunlarını data frame olarak döndürelim."
   ]
  },
  {
   "cell_type": "code",
   "execution_count": 23,
   "id": "1cc17ddb",
   "metadata": {},
   "outputs": [
    {
     "data": {
      "text/html": [
       "<div>\n",
       "<style scoped>\n",
       "    .dataframe tbody tr th:only-of-type {\n",
       "        vertical-align: middle;\n",
       "    }\n",
       "\n",
       "    .dataframe tbody tr th {\n",
       "        vertical-align: top;\n",
       "    }\n",
       "\n",
       "    .dataframe thead th {\n",
       "        text-align: right;\n",
       "    }\n",
       "</style>\n",
       "<table border=\"1\" class=\"dataframe\">\n",
       "  <thead>\n",
       "    <tr style=\"text-align: right;\">\n",
       "      <th></th>\n",
       "      <th>country</th>\n",
       "      <th>capital</th>\n",
       "    </tr>\n",
       "  </thead>\n",
       "  <tbody>\n",
       "    <tr>\n",
       "      <th>BR</th>\n",
       "      <td>Brazil</td>\n",
       "      <td>Brasilia</td>\n",
       "    </tr>\n",
       "    <tr>\n",
       "      <th>RU</th>\n",
       "      <td>Russia</td>\n",
       "      <td>Moscow</td>\n",
       "    </tr>\n",
       "    <tr>\n",
       "      <th>IN</th>\n",
       "      <td>India</td>\n",
       "      <td>New Delhi</td>\n",
       "    </tr>\n",
       "    <tr>\n",
       "      <th>CH</th>\n",
       "      <td>China</td>\n",
       "      <td>Beijing</td>\n",
       "    </tr>\n",
       "  </tbody>\n",
       "</table>\n",
       "</div>"
      ],
      "text/plain": [
       "   country    capital\n",
       "BR  Brazil   Brasilia\n",
       "RU  Russia     Moscow\n",
       "IN   India  New Delhi\n",
       "CH   China    Beijing"
      ]
     },
     "execution_count": 23,
     "metadata": {},
     "output_type": "execute_result"
    }
   ],
   "source": [
    "brics.loc[:, [\"country\", \"capital\"]]"
   ]
  },
  {
   "cell_type": "markdown",
   "id": "821bd203",
   "metadata": {},
   "source": [
    "## Data Frame'leri Filtreleme (Filtering dataframes) "
   ]
  },
  {
   "cell_type": "markdown",
   "id": "2bda5d0c",
   "metadata": {},
   "source": [
    "#### Belirlediğimiz sütunda, istediğimiz aralıktaki değerlere sahip olan gözlemlerin olduğu bir data frame oluşturma"
   ]
  },
  {
   "cell_type": "code",
   "execution_count": 24,
   "id": "df55d6ec",
   "metadata": {},
   "outputs": [
    {
     "data": {
      "text/html": [
       "<div>\n",
       "<style scoped>\n",
       "    .dataframe tbody tr th:only-of-type {\n",
       "        vertical-align: middle;\n",
       "    }\n",
       "\n",
       "    .dataframe tbody tr th {\n",
       "        vertical-align: top;\n",
       "    }\n",
       "\n",
       "    .dataframe thead th {\n",
       "        text-align: right;\n",
       "    }\n",
       "</style>\n",
       "<table border=\"1\" class=\"dataframe\">\n",
       "  <thead>\n",
       "    <tr style=\"text-align: right;\">\n",
       "      <th></th>\n",
       "      <th>country</th>\n",
       "      <th>capital</th>\n",
       "      <th>area</th>\n",
       "      <th>population</th>\n",
       "    </tr>\n",
       "  </thead>\n",
       "  <tbody>\n",
       "    <tr>\n",
       "      <th>BR</th>\n",
       "      <td>Brazil</td>\n",
       "      <td>Brasilia</td>\n",
       "      <td>8.516</td>\n",
       "      <td>200.4</td>\n",
       "    </tr>\n",
       "    <tr>\n",
       "      <th>RU</th>\n",
       "      <td>Russia</td>\n",
       "      <td>Moscow</td>\n",
       "      <td>17.100</td>\n",
       "      <td>143.5</td>\n",
       "    </tr>\n",
       "    <tr>\n",
       "      <th>IN</th>\n",
       "      <td>India</td>\n",
       "      <td>New Delhi</td>\n",
       "      <td>3.286</td>\n",
       "      <td>1252.0</td>\n",
       "    </tr>\n",
       "    <tr>\n",
       "      <th>CH</th>\n",
       "      <td>China</td>\n",
       "      <td>Beijing</td>\n",
       "      <td>9.597</td>\n",
       "      <td>1357.0</td>\n",
       "    </tr>\n",
       "  </tbody>\n",
       "</table>\n",
       "</div>"
      ],
      "text/plain": [
       "   country    capital    area  population\n",
       "BR  Brazil   Brasilia   8.516       200.4\n",
       "RU  Russia     Moscow  17.100       143.5\n",
       "IN   India  New Delhi   3.286      1252.0\n",
       "CH   China    Beijing   9.597      1357.0"
      ]
     },
     "execution_count": 24,
     "metadata": {},
     "output_type": "execute_result"
    }
   ],
   "source": [
    "dict = {\n",
    "    \"country\" : [\"Brazil\", \"Russia\", \"India\", \"China\"],\n",
    "    \"capital\" : [\"Brasilia\", \"Moscow\", \"New Delhi\", \"Beijing\"],\n",
    "    \"area\" : [8.516, 17.10, 3.286, 9.597],\n",
    "    \"population\" : [200.4, 143.5, 1252, 1357]\n",
    "}\n",
    "\n",
    "brics = pd.DataFrame(dict, index = [\"BR\", \"RU\", \"IN\", \"CH\"])\n",
    "brics"
   ]
  },
  {
   "cell_type": "markdown",
   "id": "08f58ec9",
   "metadata": {},
   "source": [
    "--> 1-) Sadece area sütununu döndürelim."
   ]
  },
  {
   "cell_type": "code",
   "execution_count": 25,
   "id": "662bb942",
   "metadata": {},
   "outputs": [
    {
     "data": {
      "text/plain": [
       "BR     8.516\n",
       "RU    17.100\n",
       "IN     3.286\n",
       "CH     9.597\n",
       "Name: area, dtype: float64"
      ]
     },
     "execution_count": 25,
     "metadata": {},
     "output_type": "execute_result"
    }
   ],
   "source": [
    "brics[\"area\"]"
   ]
  },
  {
   "cell_type": "markdown",
   "id": "6ad88d34",
   "metadata": {},
   "source": [
    "--> 2-) area sütununda, 8'den büyük olan sayılar True, küçük olan sayılar False olacak şekilde boolean bir seri oluşturalım"
   ]
  },
  {
   "cell_type": "code",
   "execution_count": 26,
   "id": "965ecaba",
   "metadata": {},
   "outputs": [
    {
     "data": {
      "text/plain": [
       "BR     True\n",
       "RU     True\n",
       "IN    False\n",
       "CH     True\n",
       "Name: area, dtype: bool"
      ]
     },
     "execution_count": 26,
     "metadata": {},
     "output_type": "execute_result"
    }
   ],
   "source": [
    "brics[\"area\"] > 8"
   ]
  },
  {
   "cell_type": "markdown",
   "id": "b31bb560",
   "metadata": {},
   "source": [
    "--> 3-) Oluşturduğumuz bu seriyi, is_huge adlı bir değişkene atayalım "
   ]
  },
  {
   "cell_type": "code",
   "execution_count": 27,
   "id": "b489f202",
   "metadata": {},
   "outputs": [
    {
     "data": {
      "text/plain": [
       "BR     True\n",
       "RU     True\n",
       "IN    False\n",
       "CH     True\n",
       "Name: area, dtype: bool"
      ]
     },
     "execution_count": 27,
     "metadata": {},
     "output_type": "execute_result"
    }
   ],
   "source": [
    "is_huge = brics[\"area\"] > 8\n",
    "is_huge"
   ]
  },
  {
   "cell_type": "markdown",
   "id": "9002c8e4",
   "metadata": {},
   "source": [
    "--> 4-) Eğer brics[is_huge] yazarsak sadece True olan değerlerin olduğu bir data frame elde ederiz. Böylece area sütununda 8'den büyük değerlerin olduğu ülkeleri seçmiş oluruz ve amacımıza hizmet edecek yeni bir data frame elde etmiş oluruz. "
   ]
  },
  {
   "cell_type": "code",
   "execution_count": 28,
   "id": "c051a89b",
   "metadata": {},
   "outputs": [
    {
     "data": {
      "text/html": [
       "<div>\n",
       "<style scoped>\n",
       "    .dataframe tbody tr th:only-of-type {\n",
       "        vertical-align: middle;\n",
       "    }\n",
       "\n",
       "    .dataframe tbody tr th {\n",
       "        vertical-align: top;\n",
       "    }\n",
       "\n",
       "    .dataframe thead th {\n",
       "        text-align: right;\n",
       "    }\n",
       "</style>\n",
       "<table border=\"1\" class=\"dataframe\">\n",
       "  <thead>\n",
       "    <tr style=\"text-align: right;\">\n",
       "      <th></th>\n",
       "      <th>country</th>\n",
       "      <th>capital</th>\n",
       "      <th>area</th>\n",
       "      <th>population</th>\n",
       "    </tr>\n",
       "  </thead>\n",
       "  <tbody>\n",
       "    <tr>\n",
       "      <th>BR</th>\n",
       "      <td>Brazil</td>\n",
       "      <td>Brasilia</td>\n",
       "      <td>8.516</td>\n",
       "      <td>200.4</td>\n",
       "    </tr>\n",
       "    <tr>\n",
       "      <th>RU</th>\n",
       "      <td>Russia</td>\n",
       "      <td>Moscow</td>\n",
       "      <td>17.100</td>\n",
       "      <td>143.5</td>\n",
       "    </tr>\n",
       "    <tr>\n",
       "      <th>CH</th>\n",
       "      <td>China</td>\n",
       "      <td>Beijing</td>\n",
       "      <td>9.597</td>\n",
       "      <td>1357.0</td>\n",
       "    </tr>\n",
       "  </tbody>\n",
       "</table>\n",
       "</div>"
      ],
      "text/plain": [
       "   country   capital    area  population\n",
       "BR  Brazil  Brasilia   8.516       200.4\n",
       "RU  Russia    Moscow  17.100       143.5\n",
       "CH   China   Beijing   9.597      1357.0"
      ]
     },
     "execution_count": 28,
     "metadata": {},
     "output_type": "execute_result"
    }
   ],
   "source": [
    "brics[is_huge]"
   ]
  },
  {
   "cell_type": "markdown",
   "id": "9785103c",
   "metadata": {},
   "source": [
    "--> Yukarıda yaptığımız işlemleri tek bir satırda halledebiliriz. area değeri, 8'den büyük olan gözlemlerin bir arada olduğu yeni bir data frame oluşturmuz oluruz. "
   ]
  },
  {
   "cell_type": "code",
   "execution_count": 29,
   "id": "32c42aa3",
   "metadata": {},
   "outputs": [
    {
     "data": {
      "text/html": [
       "<div>\n",
       "<style scoped>\n",
       "    .dataframe tbody tr th:only-of-type {\n",
       "        vertical-align: middle;\n",
       "    }\n",
       "\n",
       "    .dataframe tbody tr th {\n",
       "        vertical-align: top;\n",
       "    }\n",
       "\n",
       "    .dataframe thead th {\n",
       "        text-align: right;\n",
       "    }\n",
       "</style>\n",
       "<table border=\"1\" class=\"dataframe\">\n",
       "  <thead>\n",
       "    <tr style=\"text-align: right;\">\n",
       "      <th></th>\n",
       "      <th>country</th>\n",
       "      <th>capital</th>\n",
       "      <th>area</th>\n",
       "      <th>population</th>\n",
       "    </tr>\n",
       "  </thead>\n",
       "  <tbody>\n",
       "    <tr>\n",
       "      <th>BR</th>\n",
       "      <td>Brazil</td>\n",
       "      <td>Brasilia</td>\n",
       "      <td>8.516</td>\n",
       "      <td>200.4</td>\n",
       "    </tr>\n",
       "    <tr>\n",
       "      <th>RU</th>\n",
       "      <td>Russia</td>\n",
       "      <td>Moscow</td>\n",
       "      <td>17.100</td>\n",
       "      <td>143.5</td>\n",
       "    </tr>\n",
       "    <tr>\n",
       "      <th>CH</th>\n",
       "      <td>China</td>\n",
       "      <td>Beijing</td>\n",
       "      <td>9.597</td>\n",
       "      <td>1357.0</td>\n",
       "    </tr>\n",
       "  </tbody>\n",
       "</table>\n",
       "</div>"
      ],
      "text/plain": [
       "   country   capital    area  population\n",
       "BR  Brazil  Brasilia   8.516       200.4\n",
       "RU  Russia    Moscow  17.100       143.5\n",
       "CH   China   Beijing   9.597      1357.0"
      ]
     },
     "execution_count": 29,
     "metadata": {},
     "output_type": "execute_result"
    }
   ],
   "source": [
    "brics[brics[\"area\"] > 8]"
   ]
  },
  {
   "cell_type": "markdown",
   "id": "c77900af",
   "metadata": {},
   "source": [
    "#### NumPy'ın np.logical_and() fonksiyonu ile istediğimiz aralıklarda True olan boolean, seri olarak sonuç veren kod bloğu"
   ]
  },
  {
   "cell_type": "code",
   "execution_count": 30,
   "id": "aab7f0d9",
   "metadata": {},
   "outputs": [
    {
     "data": {
      "text/plain": [
       "BR     True\n",
       "RU    False\n",
       "IN    False\n",
       "CH     True\n",
       "Name: area, dtype: bool"
      ]
     },
     "execution_count": 30,
     "metadata": {},
     "output_type": "execute_result"
    }
   ],
   "source": [
    "import numpy as np\n",
    "np.logical_and(brics[\"area\"] > 8, brics[\"area\"] < 10)"
   ]
  },
  {
   "cell_type": "markdown",
   "id": "fe5da868",
   "metadata": {},
   "source": [
    "Sadece 8 ile 10 m2'lik gözlemleri bir arada tutmak istediğimizi varsayalım. Bunu da NumPy'daki logical_and() fonksiyonu ile yapalım"
   ]
  },
  {
   "cell_type": "code",
   "execution_count": 31,
   "id": "a709a43b",
   "metadata": {},
   "outputs": [
    {
     "data": {
      "text/html": [
       "<div>\n",
       "<style scoped>\n",
       "    .dataframe tbody tr th:only-of-type {\n",
       "        vertical-align: middle;\n",
       "    }\n",
       "\n",
       "    .dataframe tbody tr th {\n",
       "        vertical-align: top;\n",
       "    }\n",
       "\n",
       "    .dataframe thead th {\n",
       "        text-align: right;\n",
       "    }\n",
       "</style>\n",
       "<table border=\"1\" class=\"dataframe\">\n",
       "  <thead>\n",
       "    <tr style=\"text-align: right;\">\n",
       "      <th></th>\n",
       "      <th>country</th>\n",
       "      <th>capital</th>\n",
       "      <th>area</th>\n",
       "      <th>population</th>\n",
       "    </tr>\n",
       "  </thead>\n",
       "  <tbody>\n",
       "    <tr>\n",
       "      <th>BR</th>\n",
       "      <td>Brazil</td>\n",
       "      <td>Brasilia</td>\n",
       "      <td>8.516</td>\n",
       "      <td>200.4</td>\n",
       "    </tr>\n",
       "    <tr>\n",
       "      <th>CH</th>\n",
       "      <td>China</td>\n",
       "      <td>Beijing</td>\n",
       "      <td>9.597</td>\n",
       "      <td>1357.0</td>\n",
       "    </tr>\n",
       "  </tbody>\n",
       "</table>\n",
       "</div>"
      ],
      "text/plain": [
       "   country   capital   area  population\n",
       "BR  Brazil  Brasilia  8.516       200.4\n",
       "CH   China   Beijing  9.597      1357.0"
      ]
     },
     "execution_count": 31,
     "metadata": {},
     "output_type": "execute_result"
    }
   ],
   "source": [
    "brics[np.logical_and(brics[\"area\"] > 8, brics[\"area\"] < 10)]"
   ]
  },
  {
   "cell_type": "markdown",
   "id": "9a271adf",
   "metadata": {},
   "source": [
    "## Data Frame'leri for döngüsü ile yineleme "
   ]
  },
  {
   "cell_type": "markdown",
   "id": "06d9ce56",
   "metadata": {},
   "source": [
    "#### iterrows() "
   ]
  },
  {
   "cell_type": "code",
   "execution_count": 32,
   "id": "d3c6c727",
   "metadata": {},
   "outputs": [
    {
     "data": {
      "text/html": [
       "<div>\n",
       "<style scoped>\n",
       "    .dataframe tbody tr th:only-of-type {\n",
       "        vertical-align: middle;\n",
       "    }\n",
       "\n",
       "    .dataframe tbody tr th {\n",
       "        vertical-align: top;\n",
       "    }\n",
       "\n",
       "    .dataframe thead th {\n",
       "        text-align: right;\n",
       "    }\n",
       "</style>\n",
       "<table border=\"1\" class=\"dataframe\">\n",
       "  <thead>\n",
       "    <tr style=\"text-align: right;\">\n",
       "      <th></th>\n",
       "      <th>country</th>\n",
       "      <th>capital</th>\n",
       "      <th>area</th>\n",
       "      <th>population</th>\n",
       "    </tr>\n",
       "  </thead>\n",
       "  <tbody>\n",
       "    <tr>\n",
       "      <th>BR</th>\n",
       "      <td>Brazil</td>\n",
       "      <td>Brasilia</td>\n",
       "      <td>8.516</td>\n",
       "      <td>200.4</td>\n",
       "    </tr>\n",
       "    <tr>\n",
       "      <th>RU</th>\n",
       "      <td>Russia</td>\n",
       "      <td>Moscow</td>\n",
       "      <td>17.100</td>\n",
       "      <td>143.5</td>\n",
       "    </tr>\n",
       "    <tr>\n",
       "      <th>IN</th>\n",
       "      <td>India</td>\n",
       "      <td>New Delhi</td>\n",
       "      <td>3.286</td>\n",
       "      <td>1252.0</td>\n",
       "    </tr>\n",
       "    <tr>\n",
       "      <th>CH</th>\n",
       "      <td>China</td>\n",
       "      <td>Beijing</td>\n",
       "      <td>9.597</td>\n",
       "      <td>1357.0</td>\n",
       "    </tr>\n",
       "  </tbody>\n",
       "</table>\n",
       "</div>"
      ],
      "text/plain": [
       "   country    capital    area  population\n",
       "BR  Brazil   Brasilia   8.516       200.4\n",
       "RU  Russia     Moscow  17.100       143.5\n",
       "IN   India  New Delhi   3.286      1252.0\n",
       "CH   China    Beijing   9.597      1357.0"
      ]
     },
     "execution_count": 32,
     "metadata": {},
     "output_type": "execute_result"
    }
   ],
   "source": [
    "dict = {\n",
    "    \"country\" : [\"Brazil\", \"Russia\", \"India\", \"China\"],\n",
    "    \"capital\" : [\"Brasilia\", \"Moscow\", \"New Delhi\", \"Beijing\"],\n",
    "    \"area\" : [8.516, 17.10, 3.286, 9.597],\n",
    "    \"population\" : [200.4, 143.5, 1252, 1357]\n",
    "}\n",
    "\n",
    "brics = pd.DataFrame(dict, index = [\"BR\", \"RU\", \"IN\", \"CH\"])\n",
    "brics"
   ]
  },
  {
   "cell_type": "markdown",
   "id": "7d357970",
   "metadata": {},
   "source": [
    "--> For döngüsünü herhangi bir komut kullanmadan data frame üzerinde deneyelim. Göreceğiz ki sadece sütunları döndürecek"
   ]
  },
  {
   "cell_type": "code",
   "execution_count": 33,
   "id": "62d578ca",
   "metadata": {},
   "outputs": [
    {
     "name": "stdout",
     "output_type": "stream",
     "text": [
      "country\n",
      "capital\n",
      "area\n",
      "population\n"
     ]
    }
   ],
   "source": [
    "for val in brics:\n",
    "    print(val)"
   ]
  },
  {
   "cell_type": "markdown",
   "id": "c308d001",
   "metadata": {},
   "source": [
    "--> Pandas'ta satırlar üzerinde yineleme yapmak istediğimizi açıkça belirtmemiz gerekir. Bunu da itterows() metodu ile yaparız.\n",
    "--> iterrows() metodu data frame'e bakar ve her yinelemede iki veri parçası (satırın etiketi ve daha sonra pandas serisi olarak satırdaki gerçek veriler) döndürür"
   ]
  },
  {
   "cell_type": "code",
   "execution_count": 38,
   "id": "3fe4731f",
   "metadata": {},
   "outputs": [
    {
     "name": "stdout",
     "output_type": "stream",
     "text": [
      "BR\n",
      "country         Brazil\n",
      "capital       Brasilia\n",
      "area             8.516\n",
      "population       200.4\n",
      "Name: BR, dtype: object\n",
      "RU\n",
      "country       Russia\n",
      "capital       Moscow\n",
      "area            17.1\n",
      "population     143.5\n",
      "Name: RU, dtype: object\n",
      "IN\n",
      "country           India\n",
      "capital       New Delhi\n",
      "area              3.286\n",
      "population       1252.0\n",
      "Name: IN, dtype: object\n",
      "CH\n",
      "country         China\n",
      "capital       Beijing\n",
      "area            9.597\n",
      "population     1357.0\n",
      "Name: CH, dtype: object\n"
     ]
    }
   ],
   "source": [
    "for lab, row in brics.iterrows():\n",
    "    print(lab)\n",
    "    print(row)"
   ]
  },
  {
   "cell_type": "markdown",
   "id": "54743e38",
   "metadata": {},
   "source": [
    "--> Sadece indexlerdeki etiketler ve başkentlerin (capital sütunu) olduğu bir seri oluşturalım."
   ]
  },
  {
   "cell_type": "code",
   "execution_count": 39,
   "id": "f8f9f63d",
   "metadata": {},
   "outputs": [
    {
     "name": "stdout",
     "output_type": "stream",
     "text": [
      "BR:Brasilia\n",
      "RU:Moscow\n",
      "IN:New Delhi\n",
      "CH:Beijing\n"
     ]
    }
   ],
   "source": [
    "for lab, row in brics.iterrows():\n",
    "    print(lab + \":\" + row[\"capital\"])"
   ]
  },
  {
   "cell_type": "markdown",
   "id": "56643c27",
   "metadata": {},
   "source": [
    "## DataFrame'e yeni bir sütun ekleme "
   ]
  },
  {
   "cell_type": "markdown",
   "id": "57c7e6cb",
   "metadata": {},
   "source": [
    "#### apply() "
   ]
  },
  {
   "cell_type": "code",
   "execution_count": 42,
   "id": "4d4b7647",
   "metadata": {},
   "outputs": [
    {
     "data": {
      "text/html": [
       "<div>\n",
       "<style scoped>\n",
       "    .dataframe tbody tr th:only-of-type {\n",
       "        vertical-align: middle;\n",
       "    }\n",
       "\n",
       "    .dataframe tbody tr th {\n",
       "        vertical-align: top;\n",
       "    }\n",
       "\n",
       "    .dataframe thead th {\n",
       "        text-align: right;\n",
       "    }\n",
       "</style>\n",
       "<table border=\"1\" class=\"dataframe\">\n",
       "  <thead>\n",
       "    <tr style=\"text-align: right;\">\n",
       "      <th></th>\n",
       "      <th>country</th>\n",
       "      <th>capital</th>\n",
       "      <th>area</th>\n",
       "      <th>population</th>\n",
       "    </tr>\n",
       "  </thead>\n",
       "  <tbody>\n",
       "    <tr>\n",
       "      <th>BR</th>\n",
       "      <td>Brazil</td>\n",
       "      <td>Brasilia</td>\n",
       "      <td>8.516</td>\n",
       "      <td>200.4</td>\n",
       "    </tr>\n",
       "    <tr>\n",
       "      <th>RU</th>\n",
       "      <td>Russia</td>\n",
       "      <td>Moscow</td>\n",
       "      <td>17.100</td>\n",
       "      <td>143.5</td>\n",
       "    </tr>\n",
       "    <tr>\n",
       "      <th>IN</th>\n",
       "      <td>India</td>\n",
       "      <td>New Delhi</td>\n",
       "      <td>3.286</td>\n",
       "      <td>1252.0</td>\n",
       "    </tr>\n",
       "    <tr>\n",
       "      <th>CH</th>\n",
       "      <td>China</td>\n",
       "      <td>Beijing</td>\n",
       "      <td>9.597</td>\n",
       "      <td>1357.0</td>\n",
       "    </tr>\n",
       "  </tbody>\n",
       "</table>\n",
       "</div>"
      ],
      "text/plain": [
       "   country    capital    area  population\n",
       "BR  Brazil   Brasilia   8.516       200.4\n",
       "RU  Russia     Moscow  17.100       143.5\n",
       "IN   India  New Delhi   3.286      1252.0\n",
       "CH   China    Beijing   9.597      1357.0"
      ]
     },
     "execution_count": 42,
     "metadata": {},
     "output_type": "execute_result"
    }
   ],
   "source": [
    "dict = {\n",
    "    \"country\" : [\"Brazil\", \"Russia\", \"India\", \"China\"],\n",
    "    \"capital\" : [\"Brasilia\", \"Moscow\", \"New Delhi\", \"Beijing\"],\n",
    "    \"area\" : [8.516, 17.10, 3.286, 9.597],\n",
    "    \"population\" : [200.4, 143.5, 1252, 1357]\n",
    "}\n",
    "\n",
    "brics = pd.DataFrame(dict, index = [\"BR\", \"RU\", \"IN\", \"CH\"])\n",
    "brics"
   ]
  },
  {
   "cell_type": "markdown",
   "id": "72a973fa",
   "metadata": {},
   "source": [
    "--> .loc() kullanarak yeni bir sütun ekleyelim "
   ]
  },
  {
   "cell_type": "code",
   "execution_count": 43,
   "id": "74ea39b5",
   "metadata": {},
   "outputs": [
    {
     "name": "stdout",
     "output_type": "stream",
     "text": [
      "   country    capital    area  population  name_length\n",
      "BR  Brazil   Brasilia   8.516       200.4          6.0\n",
      "RU  Russia     Moscow  17.100       143.5          6.0\n",
      "IN   India  New Delhi   3.286      1252.0          5.0\n",
      "CH   China    Beijing   9.597      1357.0          5.0\n"
     ]
    }
   ],
   "source": [
    "for lab, row in brics.iterrows():\n",
    "    # Her yinelemede yeni bir seri yaratıyoruz\n",
    "    brics.loc[lab, \"name_length\"] = len(row[\"country\"])\n",
    "    \n",
    "print(brics)"
   ]
  },
  {
   "cell_type": "markdown",
   "id": "5df2681a",
   "metadata": {},
   "source": [
    "--> Üstte for döngüsü ile yapılan işlem verimsizdir. Bu yüzden yukarıdaki gibi yapmak yerine apply() komutunu kullanabiliriz.\n",
    " \n",
    " --> apply() komutu, girdi olarak her ülke adıyla len işlevini çağırır ve o şekilde ekleme yapar."
   ]
  },
  {
   "cell_type": "code",
   "execution_count": 45,
   "id": "c870c8d0",
   "metadata": {},
   "outputs": [
    {
     "data": {
      "text/html": [
       "<div>\n",
       "<style scoped>\n",
       "    .dataframe tbody tr th:only-of-type {\n",
       "        vertical-align: middle;\n",
       "    }\n",
       "\n",
       "    .dataframe tbody tr th {\n",
       "        vertical-align: top;\n",
       "    }\n",
       "\n",
       "    .dataframe thead th {\n",
       "        text-align: right;\n",
       "    }\n",
       "</style>\n",
       "<table border=\"1\" class=\"dataframe\">\n",
       "  <thead>\n",
       "    <tr style=\"text-align: right;\">\n",
       "      <th></th>\n",
       "      <th>country</th>\n",
       "      <th>capital</th>\n",
       "      <th>area</th>\n",
       "      <th>population</th>\n",
       "      <th>name_length</th>\n",
       "      <th>name_length_of_capitals</th>\n",
       "    </tr>\n",
       "  </thead>\n",
       "  <tbody>\n",
       "    <tr>\n",
       "      <th>BR</th>\n",
       "      <td>Brazil</td>\n",
       "      <td>Brasilia</td>\n",
       "      <td>8.516</td>\n",
       "      <td>200.4</td>\n",
       "      <td>6.0</td>\n",
       "      <td>8</td>\n",
       "    </tr>\n",
       "    <tr>\n",
       "      <th>RU</th>\n",
       "      <td>Russia</td>\n",
       "      <td>Moscow</td>\n",
       "      <td>17.100</td>\n",
       "      <td>143.5</td>\n",
       "      <td>6.0</td>\n",
       "      <td>6</td>\n",
       "    </tr>\n",
       "    <tr>\n",
       "      <th>IN</th>\n",
       "      <td>India</td>\n",
       "      <td>New Delhi</td>\n",
       "      <td>3.286</td>\n",
       "      <td>1252.0</td>\n",
       "      <td>5.0</td>\n",
       "      <td>9</td>\n",
       "    </tr>\n",
       "    <tr>\n",
       "      <th>CH</th>\n",
       "      <td>China</td>\n",
       "      <td>Beijing</td>\n",
       "      <td>9.597</td>\n",
       "      <td>1357.0</td>\n",
       "      <td>5.0</td>\n",
       "      <td>7</td>\n",
       "    </tr>\n",
       "  </tbody>\n",
       "</table>\n",
       "</div>"
      ],
      "text/plain": [
       "   country    capital    area  population  name_length  \\\n",
       "BR  Brazil   Brasilia   8.516       200.4          6.0   \n",
       "RU  Russia     Moscow  17.100       143.5          6.0   \n",
       "IN   India  New Delhi   3.286      1252.0          5.0   \n",
       "CH   China    Beijing   9.597      1357.0          5.0   \n",
       "\n",
       "    name_length_of_capitals  \n",
       "BR                        8  \n",
       "RU                        6  \n",
       "IN                        9  \n",
       "CH                        7  "
      ]
     },
     "execution_count": 45,
     "metadata": {},
     "output_type": "execute_result"
    }
   ],
   "source": [
    "brics[\"name_length_of_capitals\"] = brics[\"capital\"].apply(len)\n",
    "brics"
   ]
  }
 ],
 "metadata": {
  "kernelspec": {
   "display_name": "Python 3 (ipykernel)",
   "language": "python",
   "name": "python3"
  },
  "language_info": {
   "codemirror_mode": {
    "name": "ipython",
    "version": 3
   },
   "file_extension": ".py",
   "mimetype": "text/x-python",
   "name": "python",
   "nbconvert_exporter": "python",
   "pygments_lexer": "ipython3",
   "version": "3.9.7"
  }
 },
 "nbformat": 4,
 "nbformat_minor": 5
}
